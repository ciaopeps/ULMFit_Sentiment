{
  "nbformat": 4,
  "nbformat_minor": 0,
  "metadata": {
    "colab": {
      "name": "ULMFit.ipynb",
      "provenance": [],
      "authorship_tag": "ABX9TyOfmU3N1wWFP2waauVMBUgW",
      "include_colab_link": true
    },
    "kernelspec": {
      "name": "python3",
      "display_name": "Python 3"
    },
    "accelerator": "GPU"
  },
  "cells": [
    {
      "cell_type": "markdown",
      "metadata": {
        "id": "view-in-github",
        "colab_type": "text"
      },
      "source": [
        "<a href=\"https://colab.research.google.com/github/ciaopeps/ULMFit_Sentiment/blob/master/ULMFit.ipynb\" target=\"_parent\"><img src=\"https://colab.research.google.com/assets/colab-badge.svg\" alt=\"Open In Colab\"/></a>"
      ]
    },
    {
      "cell_type": "code",
      "metadata": {
        "id": "g2epO89E-7lw",
        "colab_type": "code",
        "colab": {
          "base_uri": "https://localhost:8080/",
          "height": 125
        },
        "outputId": "baaf6f44-0a9a-44e1-c309-681ace6b64d3"
      },
      "source": [
        "from google.colab import drive\n",
        "drive.mount('/content/gdrive', force_remount=True)"
      ],
      "execution_count": null,
      "outputs": [
        {
          "output_type": "stream",
          "text": [
            "Go to this URL in a browser: https://accounts.google.com/o/oauth2/auth?client_id=947318989803-6bn6qk8qdgf4n4g3pfee6491hc0brc4i.apps.googleusercontent.com&redirect_uri=urn%3aietf%3awg%3aoauth%3a2.0%3aoob&response_type=code&scope=email%20https%3a%2f%2fwww.googleapis.com%2fauth%2fdocs.test%20https%3a%2f%2fwww.googleapis.com%2fauth%2fdrive%20https%3a%2f%2fwww.googleapis.com%2fauth%2fdrive.photos.readonly%20https%3a%2f%2fwww.googleapis.com%2fauth%2fpeopleapi.readonly\n",
            "\n",
            "Enter your authorization code:\n",
            "··········\n",
            "Mounted at /content/gdrive\n"
          ],
          "name": "stdout"
        }
      ]
    },
    {
      "cell_type": "markdown",
      "metadata": {
        "id": "0LsnAxNyp96d",
        "colab_type": "text"
      },
      "source": [
        "## Universal Language Model Fine Tuning (ULMFiT) is a transfer learning algorithm which allows you to fit a language model and a classifier. It is based on a pretrained model (WIKITEXT 103) and then fine tuned using the specific corpus of the problem. It is based on an LSTM network architecture with droputs applied to every layer."
      ]
    },
    {
      "cell_type": "markdown",
      "metadata": {
        "id": "HQp8S31vxqdF",
        "colab_type": "text"
      },
      "source": [
        "## Import relevant packages"
      ]
    },
    {
      "cell_type": "code",
      "metadata": {
        "id": "T1To5cm9_EVC",
        "colab_type": "code",
        "colab": {}
      },
      "source": [
        "import pandas as pd\n",
        "import numpy as np\n",
        "from fastai.text import *\n",
        "from sklearn.model_selection import train_test_split as tts\n",
        "import regex as re\n"
      ],
      "execution_count": null,
      "outputs": []
    },
    {
      "cell_type": "markdown",
      "metadata": {
        "id": "G4Fxu8MTqG1e",
        "colab_type": "text"
      },
      "source": [
        "## DATASET"
      ]
    },
    {
      "cell_type": "markdown",
      "metadata": {
        "id": "9hsGaXv9qMvr",
        "colab_type": "text"
      },
      "source": [
        "In this section i am loading the dataset and performing some exploratory analysis. The dataset represents tweets commenting on 6 US airline perfomance with their sentiment. "
      ]
    },
    {
      "cell_type": "code",
      "metadata": {
        "id": "GWIvj6cCw0S7",
        "colab_type": "code",
        "colab": {
          "base_uri": "https://localhost:8080/",
          "height": 197
        },
        "outputId": "e887a6f8-6c4b-49c4-e419-f0274cea5ccd"
      },
      "source": [
        "tweets = pd.read_csv('/content/gdrive/My Drive/ULMFit Airlines/Tweets.csv') #loadind the dataset\n",
        "df = tweets[['airline_sentiment','text']] #extract tweets and sentitment\n",
        "\n",
        "df.head()"
      ],
      "execution_count": null,
      "outputs": [
        {
          "output_type": "execute_result",
          "data": {
            "text/html": [
              "<div>\n",
              "<style scoped>\n",
              "    .dataframe tbody tr th:only-of-type {\n",
              "        vertical-align: middle;\n",
              "    }\n",
              "\n",
              "    .dataframe tbody tr th {\n",
              "        vertical-align: top;\n",
              "    }\n",
              "\n",
              "    .dataframe thead th {\n",
              "        text-align: right;\n",
              "    }\n",
              "</style>\n",
              "<table border=\"1\" class=\"dataframe\">\n",
              "  <thead>\n",
              "    <tr style=\"text-align: right;\">\n",
              "      <th></th>\n",
              "      <th>airline_sentiment</th>\n",
              "      <th>text</th>\n",
              "    </tr>\n",
              "  </thead>\n",
              "  <tbody>\n",
              "    <tr>\n",
              "      <th>0</th>\n",
              "      <td>neutral</td>\n",
              "      <td>@VirginAmerica What @dhepburn said.</td>\n",
              "    </tr>\n",
              "    <tr>\n",
              "      <th>1</th>\n",
              "      <td>positive</td>\n",
              "      <td>@VirginAmerica plus you've added commercials t...</td>\n",
              "    </tr>\n",
              "    <tr>\n",
              "      <th>2</th>\n",
              "      <td>neutral</td>\n",
              "      <td>@VirginAmerica I didn't today... Must mean I n...</td>\n",
              "    </tr>\n",
              "    <tr>\n",
              "      <th>3</th>\n",
              "      <td>negative</td>\n",
              "      <td>@VirginAmerica it's really aggressive to blast...</td>\n",
              "    </tr>\n",
              "    <tr>\n",
              "      <th>4</th>\n",
              "      <td>negative</td>\n",
              "      <td>@VirginAmerica and it's a really big bad thing...</td>\n",
              "    </tr>\n",
              "  </tbody>\n",
              "</table>\n",
              "</div>"
            ],
            "text/plain": [
              "  airline_sentiment                                               text\n",
              "0           neutral                @VirginAmerica What @dhepburn said.\n",
              "1          positive  @VirginAmerica plus you've added commercials t...\n",
              "2           neutral  @VirginAmerica I didn't today... Must mean I n...\n",
              "3          negative  @VirginAmerica it's really aggressive to blast...\n",
              "4          negative  @VirginAmerica and it's a really big bad thing..."
            ]
          },
          "metadata": {
            "tags": []
          },
          "execution_count": 3
        }
      ]
    },
    {
      "cell_type": "markdown",
      "metadata": {
        "id": "-YWCBobPrgF0",
        "colab_type": "text"
      },
      "source": [
        "I am now encoding the categorical variable *airline_sentiment* into integers where:\n",
        "- positive = 2\n",
        "- neutral = 1\n",
        "- negative = 0\n",
        "\n",
        "I am also renaming the column to *labels*"
      ]
    },
    {
      "cell_type": "code",
      "metadata": {
        "id": "dUR5dyLbw9ZH",
        "colab_type": "code",
        "colab": {
          "base_uri": "https://localhost:8080/",
          "height": 143
        },
        "outputId": "41172416-f67b-404f-be42-ba86cb2204a8"
      },
      "source": [
        "from sklearn.preprocessing import LabelEncoder\n",
        "# creating instance of labelencoder\n",
        "labelencoder = LabelEncoder()\n",
        "# Assigning numerical values and updating the value\n",
        "df['airline_sentiment'] = labelencoder.fit_transform(df.airline_sentiment)\n",
        "df = df.rename(columns={'airline_sentiment':'labels'})"
      ],
      "execution_count": null,
      "outputs": [
        {
          "output_type": "stream",
          "text": [
            "/usr/local/lib/python3.6/dist-packages/ipykernel_launcher.py:5: SettingWithCopyWarning: \n",
            "A value is trying to be set on a copy of a slice from a DataFrame.\n",
            "Try using .loc[row_indexer,col_indexer] = value instead\n",
            "\n",
            "See the caveats in the documentation: https://pandas.pydata.org/pandas-docs/stable/user_guide/indexing.html#returning-a-view-versus-a-copy\n",
            "  \"\"\"\n"
          ],
          "name": "stderr"
        }
      ]
    },
    {
      "cell_type": "markdown",
      "metadata": {
        "id": "y-d_hhDXsJzt",
        "colab_type": "text"
      },
      "source": [
        "Graphical representation of airline sentiment absolute and relative counts. It cleary stands out that the dataset is higly imbalanced with more the 60% of the tweets belonging to the negative class. For this reason I will fit two models, one with raw data and the other with resampled data."
      ]
    },
    {
      "cell_type": "code",
      "metadata": {
        "id": "jYZXGJCOvHEK",
        "colab_type": "code",
        "colab": {
          "base_uri": "https://localhost:8080/",
          "height": 462
        },
        "outputId": "aed6d9d8-83f5-4026-90ab-e259efe052cb"
      },
      "source": [
        "positive = (df['labels'] == 2).sum()\n",
        "neutral = (df['labels'] == 1).sum()\n",
        "negative = (df['labels'] == 0).sum()\n",
        "\n",
        "y_bars = pd.Series([positive, negative,neutral], index=['positive', 'negative','neutral'])\n",
        "\n",
        "fig, ax = plt.subplots(1, 2, figsize=(16, 8))\n",
        "y_bars.plot(kind='bar', title='Absolute Target barplot', ax=ax[0])\n",
        "(y_bars / y_bars.sum()).plot(kind='bar', title='Relative Target barplot', ax=ax[1], color='green')\n",
        "# fig.suptitle(target)\n",
        "plt.show()"
      ],
      "execution_count": null,
      "outputs": [
        {
          "output_type": "display_data",
          "data": {
            "image/png": "[encoded data removed]",
            "text/plain": [
              "<Figure size 1152x576 with 2 Axes>"
            ]
          },
          "metadata": {
            "tags": [],
            "needs_background": "light"
          }
        }
      ]
    },
    {
      "cell_type": "markdown",
      "metadata": {
        "id": "Tbmbeq1vs2ji",
        "colab_type": "text"
      },
      "source": [
        "## DATA CLEANING AND PREPROCESSING"
      ]
    },
    {
      "cell_type": "markdown",
      "metadata": {
        "id": "NIzRZHjss6Bs",
        "colab_type": "text"
      },
      "source": [
        "In this section I am going to clean and preprocess the dataset so that it can be used to fit the model."
      ]
    },
    {
      "cell_type": "code",
      "metadata": {
        "id": "OZAasZautL7J",
        "colab_type": "code",
        "colab": {}
      },
      "source": [
        "#importing relavant libraries for prepocessing\n",
        "import re\n",
        "import nltk\n",
        "import time\n",
        "from spacy.lang.en.stop_words import STOP_WORDS\n"
      ],
      "execution_count": null,
      "outputs": []
    },
    {
      "cell_type": "markdown",
      "metadata": {
        "id": "DKLqwHW6tXBc",
        "colab_type": "text"
      },
      "source": [
        "Since the nature of the texts are tweets I am going to perform expansion of contractions. This allows the model to pick up the content of the tweet intended by the user. "
      ]
    },
    {
      "cell_type": "code",
      "metadata": {
        "id": "-s8TEQYpwqm5",
        "colab_type": "code",
        "colab": {}
      },
      "source": [
        "# Dictionary of English Contractions\n",
        "contractions_dict = { \"ain't\": \"are not\",\"'s\":\" is\",\"aren't\": \"are not\",\n",
        "                     \"can't\": \"cannot\",\"can't've\": \"cannot have\",\n",
        "                     \"'cause\": \"because\",\"could've\": \"could have\",\"couldn't\": \"could not\",\n",
        "                     \"couldn't've\": \"could not have\", \"didn't\": \"did not\",\"doesn't\": \"does not\",\n",
        "                     \"don't\": \"do not\",\"hadn't\": \"had not\",\"hadn't've\": \"had not have\",\n",
        "                     \"hasn't\": \"has not\",\"haven't\": \"have not\",\"he'd\": \"he would\",\n",
        "                     \"he'd've\": \"he would have\",\"he'll\": \"he will\", \"he'll've\": \"he will have\",\n",
        "                     \"how'd\": \"how did\",\"how'd'y\": \"how do you\",\"how'll\": \"how will\",\n",
        "                     \"I'd\": \"I would\", \"I'd've\": \"I would have\",\"I'll\": \"I will\",\n",
        "                     \"I'll've\": \"I will have\",\"I'm\": \"I am\",\"I've\": \"I have\", \"isn't\": \"is not\",\n",
        "                     \"it'd\": \"it would\",\"it'd've\": \"it would have\",\"it'll\": \"it will\",\n",
        "                     \"it'll've\": \"it will have\", \"let's\": \"let us\",\"ma'am\": \"madam\",\n",
        "                     \"mayn't\": \"may not\",\"might've\": \"might have\",\"mightn't\": \"might not\", \n",
        "                     \"mightn't've\": \"might not have\",\"must've\": \"must have\",\"mustn't\": \"must not\",\n",
        "                     \"mustn't've\": \"must not have\", \"needn't\": \"need not\",\n",
        "                     \"needn't've\": \"need not have\",\"o'clock\": \"of the clock\",\"oughtn't\": \"ought not\",\n",
        "                     \"oughtn't've\": \"ought not have\",\"shan't\": \"shall not\",\"sha'n't\": \"shall not\",\n",
        "                     \"shan't've\": \"shall not have\",\"she'd\": \"she would\",\"she'd've\": \"she would have\",\n",
        "                     \"she'll\": \"she will\", \"she'll've\": \"she will have\",\"should've\": \"should have\",\n",
        "                     \"shouldn't\": \"should not\", \"shouldn't've\": \"should not have\",\"so've\": \"so have\",\n",
        "                     \"that'd\": \"that would\",\"that'd've\": \"that would have\", \"there'd\": \"there would\",\n",
        "                     \"there'd've\": \"there would have\", \"they'd\": \"they would\",\n",
        "                     \"they'd've\": \"they would have\",\"they'll\": \"they will\",\n",
        "                     \"they'll've\": \"they will have\", \"they're\": \"they are\",\"they've\": \"they have\",\n",
        "                     \"to've\": \"to have\",\"wasn't\": \"was not\",\"we'd\": \"we would\",\n",
        "                     \"we'd've\": \"we would have\",\"we'll\": \"we will\",\"we'll've\": \"we will have\",\n",
        "                     \"we're\": \"we are\",\"we've\": \"we have\", \"weren't\": \"were not\",\"what'll\": \"what will\",\n",
        "                     \"what'll've\": \"what will have\",\"what're\": \"what are\", \"what've\": \"what have\",\n",
        "                     \"when've\": \"when have\",\"where'd\": \"where did\", \"where've\": \"where have\",\n",
        "                     \"who'll\": \"who will\",\"who'll've\": \"who will have\",\"who've\": \"who have\",\n",
        "                     \"why've\": \"why have\",\"will've\": \"will have\",\"won't\": \"will not\",\n",
        "                     \"won't've\": \"will not have\", \"would've\": \"would have\",\"wouldn't\": \"would not\",\n",
        "                     \"wouldn't've\": \"would not have\",\"y'all\": \"you all\", \"y'all'd\": \"you all would\",\n",
        "                     \"y'all'd've\": \"you all would have\",\"y'all're\": \"you all are\",\n",
        "                     \"y'all've\": \"you all have\", \"you'd\": \"you would\",\"you'd've\": \"you would have\",\n",
        "                     \"you'll\": \"you will\",\"you'll've\": \"you will have\", \"you're\": \"you are\",\n",
        "                     \"you've\": \"you have\"}\n",
        "\n",
        "# Regular expression for finding contractions\n",
        "contractions_re=re.compile('(%s)' % '|'.join(contractions_dict.keys()))\n",
        "\n",
        "# Function for expanding contractions\n",
        "def expand_contractions(text,contractions_dict=contractions_dict):\n",
        "  def replace(match):\n",
        "    return contractions_dict[match.group(0)]\n",
        "  return contractions_re.sub(replace, text)\n",
        "\n",
        "# Expanding Contractions in the reviews\n",
        "df['text']=df['text'].apply(lambda x:expand_contractions(x))\n"
      ],
      "execution_count": null,
      "outputs": []
    },
    {
      "cell_type": "markdown",
      "metadata": {
        "id": "MiWlc2cat6Z3",
        "colab_type": "text"
      },
      "source": [
        "Using the regex library I am removing tags (@) unrecognized characters and web urls. Finally I put the next in low case. "
      ]
    },
    {
      "cell_type": "code",
      "metadata": {
        "id": "cU7ArjGnt71_",
        "colab_type": "code",
        "colab": {}
      },
      "source": [
        "#remove words which are starts with @ symbols\n",
        "df['text'] = df['text'].map(lambda x:re.sub('@\\w*','',str(x)))\n",
        "#remove special characters except [a-zA-Z]\n",
        "df['text'] = df['text'].map(lambda x:re.sub('[^a-zA-Z]',' ',str(x)))\n",
        "#remove link starts with https\n",
        "df['text'] = df['text'].map(lambda x:re.sub('http.*','',str(x)))\n",
        "#low case text\n",
        "df['text'] = df['text'].map(lambda x:str(x).lower())\n"
      ],
      "execution_count": null,
      "outputs": []
    },
    {
      "cell_type": "markdown",
      "metadata": {
        "id": "ll_zEq3KvwMR",
        "colab_type": "text"
      },
      "source": [
        "Using spacy STOP_WORDS set I am cleaning the texts and updating the columns df['text']"
      ]
    },
    {
      "cell_type": "code",
      "metadata": {
        "id": "8eYZ9KkCvOUi",
        "colab_type": "code",
        "colab": {}
      },
      "source": [
        "\n",
        "corpus = []\n",
        "none=df['text'].map(lambda x:corpus.append(' '.join([word for word in str(x).strip().split() if not word in STOP_WORDS]))) \n",
        "df['text'] = corpus"
      ],
      "execution_count": null,
      "outputs": []
    },
    {
      "cell_type": "code",
      "metadata": {
        "id": "-5myAG8-xDEJ",
        "colab_type": "code",
        "colab": {}
      },
      "source": [
        ""
      ],
      "execution_count": null,
      "outputs": []
    },
    {
      "cell_type": "code",
      "metadata": {
        "id": "ebN6o3wYxMaT",
        "colab_type": "code",
        "colab": {}
      },
      "source": [
        ""
      ],
      "execution_count": null,
      "outputs": []
    },
    {
      "cell_type": "code",
      "metadata": {
        "id": "37hCKqXv55ol",
        "colab_type": "code",
        "colab": {}
      },
      "source": [
        ""
      ],
      "execution_count": null,
      "outputs": []
    },
    {
      "cell_type": "markdown",
      "metadata": {
        "id": "716QcQz5yIiP",
        "colab_type": "text"
      },
      "source": [
        "## LANGUAGE MODEL"
      ]
    },
    {
      "cell_type": "markdown",
      "metadata": {
        "id": "85E2syY3yGcf",
        "colab_type": "text"
      },
      "source": [
        "Split the dataset in train and test using sklearn train test split"
      ]
    },
    {
      "cell_type": "code",
      "metadata": {
        "id": "0hvatBuWx9YU",
        "colab_type": "code",
        "colab": {}
      },
      "source": [
        "from sklearn.model_selection import train_test_split as tts\n",
        "df_train, df_test = tts(df, stratify = df['labels'], test_size = 0.2)"
      ],
      "execution_count": null,
      "outputs": []
    },
    {
      "cell_type": "markdown",
      "metadata": {
        "id": "fegiM2sqyZn4",
        "colab_type": "text"
      },
      "source": [
        "Create the data for the language model. The language model tuned on top of the pretrained WIKITEXT103 and fined tuned using the dataset. `TextLMDataBunch` generates DataBunch used by the model. In this step the labels are ignored as the model learns the sequence of the words. It will be able to predict the next n words given a starting word. It automatically performs tokenization. I will explained in the appendix how fastai.text tokenization works. "
      ]
    },
    {
      "cell_type": "code",
      "metadata": {
        "id": "D4QjL-kbxPCC",
        "colab_type": "code",
        "colab": {
          "base_uri": "https://localhost:8080/",
          "height": 464
        },
        "outputId": "37f06bcc-22e2-4d57-9c70-191b37e3d680"
      },
      "source": [
        "data_lm = TextLMDataBunch.from_df(train_df = df_train, valid_df = df_test, path = \"\")\n",
        "data_lm.show_batch()"
      ],
      "execution_count": null,
      "outputs": [
        {
          "output_type": "display_data",
          "data": {
            "text/html": [
              ""
            ],
            "text/plain": [
              "<IPython.core.display.HTML object>"
            ]
          },
          "metadata": {
            "tags": []
          }
        },
        {
          "output_type": "display_data",
          "data": {
            "text/html": [
              ""
            ],
            "text/plain": [
              "<IPython.core.display.HTML object>"
            ]
          },
          "metadata": {
            "tags": []
          }
        },
        {
          "output_type": "display_data",
          "data": {
            "text/html": [
              "<table border=\"1\" class=\"dataframe\">\n",
              "  <thead>\n",
              "    <tr style=\"text-align: right;\">\n",
              "      <th>idx</th>\n",
              "      <th>text</th>\n",
              "    </tr>\n",
              "  </thead>\n",
              "  <tbody>\n",
              "    <tr>\n",
              "      <td>0</td>\n",
              "      <td>trying xxbos booked flight guys reconsidering decision reading tweet xxbos tourist wonder super tides tide century french u k coasts xxbos aww thanks aa dfw gma understand btw airline i m able trv love guys xxbos flight leaving xxunk board update website asap xxbos dang pandora look like pushed likely xxbos okay thanks update told airport today xxbos hours phone waiting find luggage shameonyou xxbos paid paypal online charged system</td>\n",
              "    </tr>\n",
              "    <tr>\n",
              "      <td>1</td>\n",
              "      <td>managed figure trying diff confirmation s booked annoying xxunk available xxbos hour delay single staff member ticket desk admirals club sweet xxunk xxbos thanks xxbos finally chicago hours late flight food voucher wait hr good bye xxbos xxunk flight couple weeks ago frustrated policies amp xxunk xxbos far xxbos wanted sign airline credit card absurd change fee switch flight think twice xxbos seats assigned inappropriate child age aa knew age</td>\n",
              "    </tr>\n",
              "    <tr>\n",
              "      <td>2</td>\n",
              "      <td>xxbos happy finally southwestairlines boarding pass passbook makes life easier xxbos hold hours pick xxunk xxrep 5 e xxbos priority xxunk xxbos stop cancelled flighting flights provide real help customers xxunk xxbos sent plane jetblue clue xxbos sm xxrep 4 o xxunk flight attendants xxunk xxbos applied job xxunk follow love job xxunk xxbos gary serving fll airport counter true blue makes feel home jetblue flight xxunk xxbos nope currently</td>\n",
              "    </tr>\n",
              "    <tr>\n",
              "      <td>3</td>\n",
              "      <td>tried hung twice speaking hold minutes resolution xxbos sent feedback thank xxbos thanks follow glad bag xxbos lie xxbos xxunk vacation sxm got delayed day xxunk service earliest fll gt sxm flight trying hep xxbos received flights united truly breaks guitars xxunk xxunk xxbos willing benefit doubt misunderstood went xxbos hell terrible gate agents hour wait gate xxbos school trip including sleep airport different standby flights good xxbos airways hits</td>\n",
              "    </tr>\n",
              "    <tr>\n",
              "      <td>4</td>\n",
              "      <td>nassau news live xxbos rude gate agent bwi tonight gate b hr delay flight think little training order xxbos cancelled flightlations delay causing miss connecting flight night home thanks pathetic xxbos weeks refund ticket totally unacceptable fix blast social media tv xxbos running tweeter word fleek xxbos checking consistently called multiple times loyal aa customer disappointed xxbos know information found people account reservation rr trip xxbos expect spend hard earn</td>\n",
              "    </tr>\n",
              "  </tbody>\n",
              "</table>"
            ],
            "text/plain": [
              "<IPython.core.display.HTML object>"
            ]
          },
          "metadata": {
            "tags": []
          }
        }
      ]
    },
    {
      "cell_type": "markdown",
      "metadata": {
        "id": "2sWN5aapy-pX",
        "colab_type": "text"
      },
      "source": [
        "### Now we define the language model and set the learning rates. "
      ]
    },
    {
      "cell_type": "markdown",
      "metadata": {
        "id": "sVNd1R7H0IIM",
        "colab_type": "text"
      },
      "source": [
        "`language_model_learner()` imports the pretrained model and assigns it to variable learner where:\n",
        "- data_lm is the data bunch created above\n",
        "-AWD_LSTM model architecture\n",
        "- drop_multi is the dropout rate in the model "
      ]
    },
    {
      "cell_type": "code",
      "metadata": {
        "id": "z1FagpQzx7TU",
        "colab_type": "code",
        "colab": {
          "base_uri": "https://localhost:8080/",
          "height": 34
        },
        "outputId": "247a1cf1-4b43-48d5-9c77-39b3aa038785"
      },
      "source": [
        "learn = language_model_learner(data_lm, AWD_LSTM, drop_mult=0.3)"
      ],
      "execution_count": null,
      "outputs": [
        {
          "output_type": "stream",
          "text": [
            "Downloading https://s3.amazonaws.com/fast-ai-modelzoo/wt103-fwd.tgz\n"
          ],
          "name": "stdout"
        },
        {
          "output_type": "display_data",
          "data": {
            "text/html": [
              ""
            ],
            "text/plain": [
              "<IPython.core.display.HTML object>"
            ]
          },
          "metadata": {
            "tags": []
          }
        }
      ]
    },
    {
      "cell_type": "markdown",
      "metadata": {
        "id": "s0XiinU-0N4b",
        "colab_type": "text"
      },
      "source": [
        "Fine tuning a model consists of gradually update the weights of the pretrained model according to the data we input.\n",
        "`lr_find()` runs a few epochs on the model to estimate the minimum learning rate we use in the gradient descent. It also plots  the loss in fuction of learning rate."
      ]
    },
    {
      "cell_type": "code",
      "metadata": {
        "id": "hfZv5Vqyx8UY",
        "colab_type": "code",
        "colab": {
          "base_uri": "https://localhost:8080/",
          "height": 528
        },
        "outputId": "9136611d-65a6-426f-ecd8-112b64b98d19"
      },
      "source": [
        "learn.lr_find()\n",
        "learn.recorder.plot(suggestion=True)\n",
        "min_grad_lr = learn.recorder.min_grad_lr #assign to variable the suggested min gradient"
      ],
      "execution_count": null,
      "outputs": [
        {
          "output_type": "display_data",
          "data": {
            "text/html": [
              "\n",
              "    <div>\n",
              "        <style>\n",
              "            /* Turns off some styling */\n",
              "            progress {\n",
              "                /* gets rid of default border in Firefox and Opera. */\n",
              "                border: none;\n",
              "                /* Needs to be in here for Safari polyfill so background images work as expected. */\n",
              "                background-size: auto;\n",
              "            }\n",
              "            .progress-bar-interrupted, .progress-bar-interrupted::-webkit-progress-bar {\n",
              "                background: #F44336;\n",
              "            }\n",
              "        </style>\n",
              "      <progress value='4' class='' max='5' style='width:300px; height:20px; vertical-align: middle;'></progress>\n",
              "      80.00% [4/5 00:30<00:07]\n",
              "    </div>\n",
              "    \n",
              "<table border=\"1\" class=\"dataframe\">\n",
              "  <thead>\n",
              "    <tr style=\"text-align: left;\">\n",
              "      <th>epoch</th>\n",
              "      <th>train_loss</th>\n",
              "      <th>valid_loss</th>\n",
              "      <th>accuracy</th>\n",
              "      <th>time</th>\n",
              "    </tr>\n",
              "  </thead>\n",
              "  <tbody>\n",
              "    <tr>\n",
              "      <td>0</td>\n",
              "      <td>8.848772</td>\n",
              "      <td>#na#</td>\n",
              "      <td>00:07</td>\n",
              "    </tr>\n",
              "    <tr>\n",
              "      <td>1</td>\n",
              "      <td>8.823516</td>\n",
              "      <td>#na#</td>\n",
              "      <td>00:07</td>\n",
              "    </tr>\n",
              "    <tr>\n",
              "      <td>2</td>\n",
              "      <td>8.321259</td>\n",
              "      <td>#na#</td>\n",
              "      <td>00:07</td>\n",
              "    </tr>\n",
              "    <tr>\n",
              "      <td>3</td>\n",
              "      <td>7.850355</td>\n",
              "      <td>#na#</td>\n",
              "      <td>00:07</td>\n",
              "    </tr>\n",
              "  </tbody>\n",
              "</table><p>\n",
              "\n",
              "    <div>\n",
              "        <style>\n",
              "            /* Turns off some styling */\n",
              "            progress {\n",
              "                /* gets rid of default border in Firefox and Opera. */\n",
              "                border: none;\n",
              "                /* Needs to be in here for Safari polyfill so background images work as expected. */\n",
              "                background-size: auto;\n",
              "            }\n",
              "            .progress-bar-interrupted, .progress-bar-interrupted::-webkit-progress-bar {\n",
              "                background: #F44336;\n",
              "            }\n",
              "        </style>\n",
              "      <progress value='7' class='' max='23' style='width:300px; height:20px; vertical-align: middle;'></progress>\n",
              "      30.43% [7/23 00:02<00:05 10.6318]\n",
              "    </div>\n",
              "    "
            ],
            "text/plain": [
              "<IPython.core.display.HTML object>"
            ]
          },
          "metadata": {
            "tags": []
          }
        },
        {
          "output_type": "stream",
          "text": [
            "LR Finder is complete, type {learner_name}.recorder.plot() to see the graph.\n",
            "Min numerical gradient: 3.98E-02\n",
            "Min loss divided by 10: 9.12E-02\n"
          ],
          "name": "stdout"
        },
        {
          "output_type": "display_data",
          "data": {
            "image/png": "[encoded data removed]",
            "text/plain": [
              "<Figure size 432x288 with 1 Axes>"
            ]
          },
          "metadata": {
            "tags": [],
            "needs_background": "light"
          }
        }
      ]
    },
    {
      "cell_type": "markdown",
      "metadata": {
        "id": "Dp34LW1UzQSp",
        "colab_type": "text"
      },
      "source": [
        "Gradually I continue to fine tune the model. I fit the model for a few cycles by running 2 epochs and then unfreezing and running more epochs to complete the fine tuning.  "
      ]
    },
    {
      "cell_type": "code",
      "metadata": {
        "id": "j5xSYerDx9ar",
        "colab_type": "code",
        "colab": {
          "base_uri": "https://localhost:8080/",
          "height": 107
        },
        "outputId": "251ae892-3fca-41f7-dc34-a1814828f387"
      },
      "source": [
        "learn.fit_one_cycle(2, min_grad_lr)\n",
        "\n"
      ],
      "execution_count": null,
      "outputs": [
        {
          "output_type": "display_data",
          "data": {
            "text/html": [
              "<table border=\"1\" class=\"dataframe\">\n",
              "  <thead>\n",
              "    <tr style=\"text-align: left;\">\n",
              "      <th>epoch</th>\n",
              "      <th>train_loss</th>\n",
              "      <th>valid_loss</th>\n",
              "      <th>accuracy</th>\n",
              "      <th>time</th>\n",
              "    </tr>\n",
              "  </thead>\n",
              "  <tbody>\n",
              "    <tr>\n",
              "      <td>0</td>\n",
              "      <td>7.064650</td>\n",
              "      <td>5.964035</td>\n",
              "      <td>0.151711</td>\n",
              "      <td>00:08</td>\n",
              "    </tr>\n",
              "    <tr>\n",
              "      <td>1</td>\n",
              "      <td>6.289535</td>\n",
              "      <td>5.846117</td>\n",
              "      <td>0.157626</td>\n",
              "      <td>00:08</td>\n",
              "    </tr>\n",
              "  </tbody>\n",
              "</table>"
            ],
            "text/plain": [
              "<IPython.core.display.HTML object>"
            ]
          },
          "metadata": {
            "tags": []
          }
        }
      ]
    },
    {
      "cell_type": "code",
      "metadata": {
        "id": "QgnRgwmix-TE",
        "colab_type": "code",
        "colab": {
          "base_uri": "https://localhost:8080/",
          "height": 280
        },
        "outputId": "0973319c-38d7-4508-fd03-81e4f07245e4"
      },
      "source": [
        "learn.recorder.plot_losses()\n",
        "\n"
      ],
      "execution_count": null,
      "outputs": [
        {
          "output_type": "display_data",
          "data": {
            "image/png": "[encoded data removed]",
            "text/plain": [
              "<Figure size 432x288 with 1 Axes>"
            ]
          },
          "metadata": {
            "tags": [],
            "needs_background": "light"
          }
        }
      ]
    },
    {
      "cell_type": "markdown",
      "metadata": {
        "id": "1zTiLpH412Hv",
        "colab_type": "text"
      },
      "source": [
        "Unfreezing all the layers and fit the language model."
      ]
    },
    {
      "cell_type": "code",
      "metadata": {
        "id": "CHdiyyTYx_kT",
        "colab_type": "code",
        "colab": {
          "base_uri": "https://localhost:8080/",
          "height": 167
        },
        "outputId": "c3c13cba-e9dc-4b8b-ec6c-9f3212f85d17"
      },
      "source": [
        "learn.unfreeze()\n",
        "learn.fit_one_cycle(4, 1e-3)"
      ],
      "execution_count": null,
      "outputs": [
        {
          "output_type": "display_data",
          "data": {
            "text/html": [
              "<table border=\"1\" class=\"dataframe\">\n",
              "  <thead>\n",
              "    <tr style=\"text-align: left;\">\n",
              "      <th>epoch</th>\n",
              "      <th>train_loss</th>\n",
              "      <th>valid_loss</th>\n",
              "      <th>accuracy</th>\n",
              "      <th>time</th>\n",
              "    </tr>\n",
              "  </thead>\n",
              "  <tbody>\n",
              "    <tr>\n",
              "      <td>0</td>\n",
              "      <td>5.520026</td>\n",
              "      <td>5.799984</td>\n",
              "      <td>0.163839</td>\n",
              "      <td>00:10</td>\n",
              "    </tr>\n",
              "    <tr>\n",
              "      <td>1</td>\n",
              "      <td>5.393930</td>\n",
              "      <td>5.763777</td>\n",
              "      <td>0.164993</td>\n",
              "      <td>00:10</td>\n",
              "    </tr>\n",
              "    <tr>\n",
              "      <td>2</td>\n",
              "      <td>5.225480</td>\n",
              "      <td>5.817681</td>\n",
              "      <td>0.165662</td>\n",
              "      <td>00:10</td>\n",
              "    </tr>\n",
              "    <tr>\n",
              "      <td>3</td>\n",
              "      <td>5.072079</td>\n",
              "      <td>5.838803</td>\n",
              "      <td>0.164509</td>\n",
              "      <td>00:10</td>\n",
              "    </tr>\n",
              "  </tbody>\n",
              "</table>"
            ],
            "text/plain": [
              "<IPython.core.display.HTML object>"
            ]
          },
          "metadata": {
            "tags": []
          }
        }
      ]
    },
    {
      "cell_type": "markdown",
      "metadata": {
        "id": "OZ0YbPUx2CDh",
        "colab_type": "text"
      },
      "source": [
        "## CLASSIFIER"
      ]
    },
    {
      "cell_type": "markdown",
      "metadata": {
        "id": "NC18OmrO2GRJ",
        "colab_type": "text"
      },
      "source": [
        "Using the language model trained on the new dataset I am now fitting the classifier. In a similir process as above I am loading the DataBunch. This time `TextClasDataBunch()` does not ignore the class labels so that the models learns the sentiment of the tweets. "
      ]
    },
    {
      "cell_type": "code",
      "metadata": {
        "id": "8chrHhRByDOy",
        "colab_type": "code",
        "colab": {
          "base_uri": "https://localhost:8080/",
          "height": 16
        },
        "outputId": "22089bfd-e903-408e-d035-77a82f2e34c0"
      },
      "source": [
        "data_clas = TextClasDataBunch.from_df(train_df = df_train, valid_df = df_test, path = \"\", vocab=data_lm.train_ds.vocab, bs=32)"
      ],
      "execution_count": null,
      "outputs": [
        {
          "output_type": "display_data",
          "data": {
            "text/html": [
              ""
            ],
            "text/plain": [
              "<IPython.core.display.HTML object>"
            ]
          },
          "metadata": {
            "tags": []
          }
        },
        {
          "output_type": "display_data",
          "data": {
            "text/html": [
              ""
            ],
            "text/plain": [
              "<IPython.core.display.HTML object>"
            ]
          },
          "metadata": {
            "tags": []
          }
        }
      ]
    },
    {
      "cell_type": "code",
      "metadata": {
        "id": "UHT_lSXNyFT4",
        "colab_type": "code",
        "colab": {}
      },
      "source": [
        "class_ = text_classifier_learner(data_clas, AWD_LSTM, drop_mult=0.5)"
      ],
      "execution_count": null,
      "outputs": []
    },
    {
      "cell_type": "code",
      "metadata": {
        "id": "VXZV8v-Y0RXJ",
        "colab_type": "code",
        "colab": {
          "base_uri": "https://localhost:8080/",
          "height": 408
        },
        "outputId": "48599945-1ea0-4e69-9db7-83c1066fe017"
      },
      "source": [
        "class_.lr_find()\n",
        "class_.recorder.plot(suggestion=True)\n",
        "min_grad_lr = class_.recorder.min_grad_lr"
      ],
      "execution_count": null,
      "outputs": [
        {
          "output_type": "display_data",
          "data": {
            "text/html": [
              "\n",
              "    <div>\n",
              "        <style>\n",
              "            /* Turns off some styling */\n",
              "            progress {\n",
              "                /* gets rid of default border in Firefox and Opera. */\n",
              "                border: none;\n",
              "                /* Needs to be in here for Safari polyfill so background images work as expected. */\n",
              "                background-size: auto;\n",
              "            }\n",
              "            .progress-bar-interrupted, .progress-bar-interrupted::-webkit-progress-bar {\n",
              "                background: #F44336;\n",
              "            }\n",
              "        </style>\n",
              "      <progress value='0' class='' max='1' style='width:300px; height:20px; vertical-align: middle;'></progress>\n",
              "      0.00% [0/1 00:00<00:00]\n",
              "    </div>\n",
              "    \n",
              "<table border=\"1\" class=\"dataframe\">\n",
              "  <thead>\n",
              "    <tr style=\"text-align: left;\">\n",
              "      <th>epoch</th>\n",
              "      <th>train_loss</th>\n",
              "      <th>valid_loss</th>\n",
              "      <th>accuracy</th>\n",
              "      <th>time</th>\n",
              "    </tr>\n",
              "  </thead>\n",
              "  <tbody>\n",
              "  </tbody>\n",
              "</table><p>\n",
              "\n",
              "    <div>\n",
              "        <style>\n",
              "            /* Turns off some styling */\n",
              "            progress {\n",
              "                /* gets rid of default border in Firefox and Opera. */\n",
              "                border: none;\n",
              "                /* Needs to be in here for Safari polyfill so background images work as expected. */\n",
              "                background-size: auto;\n",
              "            }\n",
              "            .progress-bar-interrupted, .progress-bar-interrupted::-webkit-progress-bar {\n",
              "                background: #F44336;\n",
              "            }\n",
              "        </style>\n",
              "      <progress value='92' class='' max='366' style='width:300px; height:20px; vertical-align: middle;'></progress>\n",
              "      25.14% [92/366 00:02<00:08 1.3898]\n",
              "    </div>\n",
              "    "
            ],
            "text/plain": [
              "<IPython.core.display.HTML object>"
            ]
          },
          "metadata": {
            "tags": []
          }
        },
        {
          "output_type": "stream",
          "text": [
            "LR Finder is complete, type {learner_name}.recorder.plot() to see the graph.\n",
            "Min numerical gradient: 1.74E-01\n",
            "Min loss divided by 10: 2.09E-02\n"
          ],
          "name": "stdout"
        },
        {
          "output_type": "display_data",
          "data": {
            "image/png": "[encoded data removed]",
            "text/plain": [
              "<Figure size 432x288 with 1 Axes>"
            ]
          },
          "metadata": {
            "tags": [],
            "needs_background": "light"
          }
        }
      ]
    },
    {
      "cell_type": "markdown",
      "metadata": {
        "id": "J4iCIk4F7ZXv",
        "colab_type": "text"
      },
      "source": [
        "Once again, I am using the gradul unfreezing technique.  Starting by training the last few layers and then gradually go backwards and unfreeze and train layers before. To do so I use the `learn.freeze_to()` function. Where the argument is an integer number that indicates the number of layers I want to unfreeze. \n",
        "I start by unfreezing the first two layers and train."
      ]
    },
    {
      "cell_type": "code",
      "metadata": {
        "id": "NQH1yjAN1Rbq",
        "colab_type": "code",
        "colab": {
          "base_uri": "https://localhost:8080/",
          "height": 107
        },
        "outputId": "e828de78-9a66-443c-d3f1-3587b1d36c4a"
      },
      "source": [
        "class_.fit_one_cycle(2, min_grad_lr)\n"
      ],
      "execution_count": null,
      "outputs": [
        {
          "output_type": "display_data",
          "data": {
            "text/html": [
              "<table border=\"1\" class=\"dataframe\">\n",
              "  <thead>\n",
              "    <tr style=\"text-align: left;\">\n",
              "      <th>epoch</th>\n",
              "      <th>train_loss</th>\n",
              "      <th>valid_loss</th>\n",
              "      <th>accuracy</th>\n",
              "      <th>time</th>\n",
              "    </tr>\n",
              "  </thead>\n",
              "  <tbody>\n",
              "    <tr>\n",
              "      <td>0</td>\n",
              "      <td>0.995934</td>\n",
              "      <td>0.975023</td>\n",
              "      <td>0.626708</td>\n",
              "      <td>00:10</td>\n",
              "    </tr>\n",
              "    <tr>\n",
              "      <td>1</td>\n",
              "      <td>0.945963</td>\n",
              "      <td>0.929181</td>\n",
              "      <td>0.628074</td>\n",
              "      <td>00:10</td>\n",
              "    </tr>\n",
              "  </tbody>\n",
              "</table>"
            ],
            "text/plain": [
              "<IPython.core.display.HTML object>"
            ]
          },
          "metadata": {
            "tags": []
          }
        }
      ]
    },
    {
      "cell_type": "code",
      "metadata": {
        "id": "Nx34KTYZ1UbW",
        "colab_type": "code",
        "colab": {
          "base_uri": "https://localhost:8080/",
          "height": 278
        },
        "outputId": "1381c59a-5ba3-471c-96a8-6b879304f37d"
      },
      "source": [
        "class_.recorder.plot_losses()\n"
      ],
      "execution_count": null,
      "outputs": [
        {
          "output_type": "display_data",
          "data": {
            "image/png": "[encoded data removed]",
            "text/plain": [
              "<Figure size 432x288 with 1 Axes>"
            ]
          },
          "metadata": {
            "tags": [],
            "needs_background": "light"
          }
        }
      ]
    },
    {
      "cell_type": "markdown",
      "metadata": {
        "id": "zPPFlVgw348o",
        "colab_type": "text"
      },
      "source": [
        "`slice(start,end)` allows you to set a learning rate intervall. The first group's learning rate is start, the last is end, and the remaining are evenly geometrically spaced."
      ]
    },
    {
      "cell_type": "code",
      "metadata": {
        "id": "89IOkhjs1i9t",
        "colab_type": "code",
        "colab": {
          "base_uri": "https://localhost:8080/",
          "height": 167
        },
        "outputId": "0a13c856-fe60-448d-a575-da49212b7aab"
      },
      "source": [
        "class_.freeze_to(-2)\n",
        "class_.fit_one_cycle(4, slice(5e-3, 2e-3), moms=(0.8,0.7))\n"
      ],
      "execution_count": null,
      "outputs": [
        {
          "output_type": "display_data",
          "data": {
            "text/html": [
              "<table border=\"1\" class=\"dataframe\">\n",
              "  <thead>\n",
              "    <tr style=\"text-align: left;\">\n",
              "      <th>epoch</th>\n",
              "      <th>train_loss</th>\n",
              "      <th>valid_loss</th>\n",
              "      <th>accuracy</th>\n",
              "      <th>time</th>\n",
              "    </tr>\n",
              "  </thead>\n",
              "  <tbody>\n",
              "    <tr>\n",
              "      <td>0</td>\n",
              "      <td>0.926858</td>\n",
              "      <td>0.881666</td>\n",
              "      <td>0.625683</td>\n",
              "      <td>00:11</td>\n",
              "    </tr>\n",
              "    <tr>\n",
              "      <td>1</td>\n",
              "      <td>0.898756</td>\n",
              "      <td>0.980788</td>\n",
              "      <td>0.643101</td>\n",
              "      <td>00:11</td>\n",
              "    </tr>\n",
              "    <tr>\n",
              "      <td>2</td>\n",
              "      <td>0.840226</td>\n",
              "      <td>0.854053</td>\n",
              "      <td>0.652322</td>\n",
              "      <td>00:11</td>\n",
              "    </tr>\n",
              "    <tr>\n",
              "      <td>3</td>\n",
              "      <td>0.851775</td>\n",
              "      <td>0.836166</td>\n",
              "      <td>0.654372</td>\n",
              "      <td>00:11</td>\n",
              "    </tr>\n",
              "  </tbody>\n",
              "</table>"
            ],
            "text/plain": [
              "<IPython.core.display.HTML object>"
            ]
          },
          "metadata": {
            "tags": []
          }
        }
      ]
    },
    {
      "cell_type": "code",
      "metadata": {
        "id": "ClgQs0b87qT3",
        "colab_type": "code",
        "colab": {
          "base_uri": "https://localhost:8080/",
          "height": 278
        },
        "outputId": "ebdf3c37-e218-4650-c76a-b858d9ae2c79"
      },
      "source": [
        "class_.recorder.plot_losses()\n"
      ],
      "execution_count": null,
      "outputs": [
        {
          "output_type": "display_data",
          "data": {
            "image/png": "[encoded data removed]",
            "text/plain": [
              "<Figure size 432x288 with 1 Axes>"
            ]
          },
          "metadata": {
            "tags": [],
            "needs_background": "light"
          }
        }
      ]
    },
    {
      "cell_type": "code",
      "metadata": {
        "id": "6fhXgYBO7ua_",
        "colab_type": "code",
        "colab": {
          "base_uri": "https://localhost:8080/",
          "height": 167
        },
        "outputId": "8397e787-3eca-4322-91ee-4bf46617f9c5"
      },
      "source": [
        "class_.unfreeze()\n",
        "class_.fit_one_cycle(4, slice(2e-3/100, 2e-3), moms=(0.8,0.7))"
      ],
      "execution_count": null,
      "outputs": [
        {
          "output_type": "display_data",
          "data": {
            "text/html": [
              "<table border=\"1\" class=\"dataframe\">\n",
              "  <thead>\n",
              "    <tr style=\"text-align: left;\">\n",
              "      <th>epoch</th>\n",
              "      <th>train_loss</th>\n",
              "      <th>valid_loss</th>\n",
              "      <th>accuracy</th>\n",
              "      <th>time</th>\n",
              "    </tr>\n",
              "  </thead>\n",
              "  <tbody>\n",
              "    <tr>\n",
              "      <td>0</td>\n",
              "      <td>0.789618</td>\n",
              "      <td>0.787928</td>\n",
              "      <td>0.679303</td>\n",
              "      <td>00:24</td>\n",
              "    </tr>\n",
              "    <tr>\n",
              "      <td>1</td>\n",
              "      <td>0.762253</td>\n",
              "      <td>0.764639</td>\n",
              "      <td>0.670424</td>\n",
              "      <td>00:24</td>\n",
              "    </tr>\n",
              "    <tr>\n",
              "      <td>2</td>\n",
              "      <td>0.700568</td>\n",
              "      <td>0.716193</td>\n",
              "      <td>0.713456</td>\n",
              "      <td>00:24</td>\n",
              "    </tr>\n",
              "    <tr>\n",
              "      <td>3</td>\n",
              "      <td>0.662087</td>\n",
              "      <td>0.685705</td>\n",
              "      <td>0.718238</td>\n",
              "      <td>00:24</td>\n",
              "    </tr>\n",
              "  </tbody>\n",
              "</table>"
            ],
            "text/plain": [
              "<IPython.core.display.HTML object>"
            ]
          },
          "metadata": {
            "tags": []
          }
        }
      ]
    },
    {
      "cell_type": "code",
      "metadata": {
        "id": "nnLehzMf7zyT",
        "colab_type": "code",
        "colab": {
          "base_uri": "https://localhost:8080/",
          "height": 311
        },
        "outputId": "49824228-f0dc-4258-f288-636bb250dcf5"
      },
      "source": [
        "preds,y,losses = class_.get_preds(with_loss=True)\n",
        "interp = ClassificationInterpretation(class_, preds, y, losses)\n",
        "interp.plot_confusion_matrix()"
      ],
      "execution_count": null,
      "outputs": [
        {
          "output_type": "display_data",
          "data": {
            "text/html": [
              ""
            ],
            "text/plain": [
              "<IPython.core.display.HTML object>"
            ]
          },
          "metadata": {
            "tags": []
          }
        },
        {
          "output_type": "display_data",
          "data": {
            "image/png": "[encoded data removed]",
            "text/plain": [
              "<Figure size 432x288 with 1 Axes>"
            ]
          },
          "metadata": {
            "tags": [],
            "needs_background": "light"
          }
        }
      ]
    },
    {
      "cell_type": "code",
      "metadata": {
        "id": "JbKf-J047oHU",
        "colab_type": "code",
        "colab": {
          "base_uri": "https://localhost:8080/",
          "height": 34
        },
        "outputId": "d532c721-a660-498f-ad8f-7559e60f6c83"
      },
      "source": [
        "accuracy(preds, y)"
      ],
      "execution_count": null,
      "outputs": [
        {
          "output_type": "execute_result",
          "data": {
            "text/plain": [
              "tensor(0.7182)"
            ]
          },
          "metadata": {
            "tags": []
          },
          "execution_count": 26
        }
      ]
    },
    {
      "cell_type": "markdown",
      "metadata": {
        "id": "QlcG0NnO4JPQ",
        "colab_type": "text"
      },
      "source": [
        "Given the imbalanced nature of the dataset the confusion matrix correctly predicts negative class tweets. To avoid this I now try to resample the dataset to an even number of tweets for each class and see if accuracy is improved. I use the `df.sample()` function to randomly resample the data. I then concatenate the resample dataset for each class"
      ]
    },
    {
      "cell_type": "code",
      "metadata": {
        "id": "MsPwoj8L-qKF",
        "colab_type": "code",
        "colab": {}
      },
      "source": [
        "#extract dataset for the same class\n",
        "df0 = df[df['labels'] == 0]\n",
        "df1 = df[df['labels'] == 1]\n",
        "df2 = df[df['labels'] == 2]"
      ],
      "execution_count": null,
      "outputs": []
    },
    {
      "cell_type": "code",
      "metadata": {
        "id": "OEvfeBI--vT5",
        "colab_type": "code",
        "colab": {
          "base_uri": "https://localhost:8080/",
          "height": 34
        },
        "outputId": "8d8c2142-5570-42b9-fecb-e37dd51dabca"
      },
      "source": [
        "df0.shape,df1.shape,df2.shape"
      ],
      "execution_count": null,
      "outputs": [
        {
          "output_type": "execute_result",
          "data": {
            "text/plain": [
              "((9178, 2), (3099, 2), (2363, 2))"
            ]
          },
          "metadata": {
            "tags": []
          },
          "execution_count": 28
        }
      ]
    },
    {
      "cell_type": "code",
      "metadata": {
        "id": "XrzT_QXCA4zs",
        "colab_type": "code",
        "colab": {
          "base_uri": "https://localhost:8080/",
          "height": 34
        },
        "outputId": "9b540db8-c6b1-4db2-e2b2-3e0076af2faa"
      },
      "source": [
        "# randomly resample each class specific dataframe \n",
        "df0 = df0.sample(n=2300)\n",
        "df1 = df1.sample(n=2300)\n",
        "df2 = df2.sample(n=2300)\n",
        "df0.shape,df1.shape,df2.shape"
      ],
      "execution_count": null,
      "outputs": [
        {
          "output_type": "execute_result",
          "data": {
            "text/plain": [
              "((2300, 2), (2300, 2), (2300, 2))"
            ]
          },
          "metadata": {
            "tags": []
          },
          "execution_count": 29
        }
      ]
    },
    {
      "cell_type": "code",
      "metadata": {
        "id": "mYf6fAODBrJa",
        "colab_type": "code",
        "colab": {
          "base_uri": "https://localhost:8080/",
          "height": 34
        },
        "outputId": "904d3a93-a909-490f-b53d-f2350bd646d7"
      },
      "source": [
        "#concatenate to generate the final resample dataset\n",
        "frames = [df0, df1, df2]\n",
        "sampled_df = pd.concat(frames).reset_index().drop(columns='index')\n",
        "sampled_df.shape"
      ],
      "execution_count": null,
      "outputs": [
        {
          "output_type": "execute_result",
          "data": {
            "text/plain": [
              "(6900, 2)"
            ]
          },
          "metadata": {
            "tags": []
          },
          "execution_count": 30
        }
      ]
    },
    {
      "cell_type": "code",
      "metadata": {
        "id": "M2XmL6HY5bgy",
        "colab_type": "code",
        "colab": {
          "base_uri": "https://localhost:8080/",
          "height": 462
        },
        "outputId": "2d9bd149-aa1a-46ae-af13-9e9af7437c92"
      },
      "source": [
        "#plot the resampled dataset\n",
        "positive = (sampled_df['labels'] == 2).sum()\n",
        "neutral = (sampled_df['labels'] == 1).sum()\n",
        "negative = (sampled_df['labels'] == 0).sum()\n",
        "\n",
        "y_bars = pd.Series([positive, negative,neutral], index=['positive', 'negative','neutral'])\n",
        "\n",
        "fig, ax = plt.subplots(1, 2, figsize=(16, 8))\n",
        "y_bars.plot(kind='bar', title='Absolute Target barplot', ax=ax[0])\n",
        "(y_bars / y_bars.sum()).plot(kind='bar', title='Relative Target barplot', ax=ax[1], color='green')\n",
        "# fig.suptitle(target)\n",
        "plt.show()"
      ],
      "execution_count": null,
      "outputs": [
        {
          "output_type": "display_data",
          "data": {
            "image/png": "[encoded data removed]",
            "text/plain": [
              "<Figure size 1152x576 with 2 Axes>"
            ]
          },
          "metadata": {
            "tags": [],
            "needs_background": "light"
          }
        }
      ]
    },
    {
      "cell_type": "markdown",
      "metadata": {
        "id": "rIgESlMw8UZI",
        "colab_type": "text"
      },
      "source": [
        "#I now run the same step as above on the new dataset."
      ]
    },
    {
      "cell_type": "markdown",
      "metadata": {
        "colab_type": "text",
        "id": "Jhc4JYL38hE6"
      },
      "source": [
        "## LANGUAGE MODEL RESAMPLED"
      ]
    },
    {
      "cell_type": "markdown",
      "metadata": {
        "colab_type": "text",
        "id": "XHP2CWPI8hE8"
      },
      "source": [
        "Split the dataset in train and test using sklearn train test split"
      ]
    },
    {
      "cell_type": "code",
      "metadata": {
        "colab_type": "code",
        "id": "4EmexqMB8hE8",
        "colab": {}
      },
      "source": [
        "from sklearn.model_selection import train_test_split as tts\n",
        "sampled_train, sampled_test = tts(sampled_df, stratify = sampled_df['labels'], test_size = 0.2)"
      ],
      "execution_count": null,
      "outputs": []
    },
    {
      "cell_type": "markdown",
      "metadata": {
        "colab_type": "text",
        "id": "0zUB_im08hFC"
      },
      "source": [
        "Create the data for the language model. The language model tuned on top of the pretrained WIKITEXT103 and fined tuned using the dataset. `TextLMDataBunch` generates DataBunch used by the model. In this step the labels are ignored as the model learns the sequency of the words. It will be able to predicts the next n words given a starting word. It automatically performs tokenization. I will explained in the appendix how fastai.text tokenization works. "
      ]
    },
    {
      "cell_type": "code",
      "metadata": {
        "colab_type": "code",
        "id": "25G2f9EJ8hFC",
        "colab": {
          "base_uri": "https://localhost:8080/",
          "height": 481
        },
        "outputId": "976bbada-e15d-485e-a2d2-f5906ddb1488"
      },
      "source": [
        "data_lm = TextLMDataBunch.from_df(train_df = sampled_train, valid_df = sampled_test, path = \"\")\n",
        "data_lm.show_batch()"
      ],
      "execution_count": null,
      "outputs": [
        {
          "output_type": "display_data",
          "data": {
            "text/html": [
              ""
            ],
            "text/plain": [
              "<IPython.core.display.HTML object>"
            ]
          },
          "metadata": {
            "tags": []
          }
        },
        {
          "output_type": "display_data",
          "data": {
            "text/html": [
              ""
            ],
            "text/plain": [
              "<IPython.core.display.HTML object>"
            ]
          },
          "metadata": {
            "tags": []
          }
        },
        {
          "output_type": "display_data",
          "data": {
            "text/html": [
              "<table border=\"1\" class=\"dataframe\">\n",
              "  <thead>\n",
              "    <tr style=\"text-align: right;\">\n",
              "      <th>idx</th>\n",
              "      <th>text</th>\n",
              "    </tr>\n",
              "  </thead>\n",
              "  <tbody>\n",
              "    <tr>\n",
              "      <td>0</td>\n",
              "      <td>believe paid money xxbos helpful flight cancelled flightled reflight booking problems aa email cell notifications xxbos reminder ll tweeting join xxbos airport snow removal method good work folks cessna xxbos welcome xxbos xxunk vegas bad i d xxunk destinationdragons xxbos worst customer service calling month book flight poorcustomerservice xxunk xxbos dm u add xxbos use help getting bags iad headed xxunk going xxunk xxbos stuck tarmac mins phl waiting load</td>\n",
              "    </tr>\n",
              "    <tr>\n",
              "      <td>1</td>\n",
              "      <td>xxunk flights xxunk xxbos thanks having hang tampa airport forever today awesome experience xxbos confirmation number new reservation xxunk m y traveling year old email xxunk xxunk com xxbos control weather control customer service luggage hours amp speak human xxbos despite bag making newark good informative email tracking updates help xxbos july zero xxunk date system causes problems like xxbos funny story website broken missing xxunk xxunk checkin process dislike</td>\n",
              "    </tr>\n",
              "    <tr>\n",
              "      <td>2</td>\n",
              "      <td>looking forward xxunk onboard xxbos rocks xxunk xxbos going miss airways provided great service let xxbos look beauty dc united airlines hope like beauty xxbos dividend miles credit card amp book flight bag free xxbos want shout thank pilots staff feb flight newark boston pm super helpful xxbos lady b abq great service cancelled flightlations xxbos xxunk usair happy night lt xxbos good xxbos anymore xxbos cost day vacation got</td>\n",
              "    </tr>\n",
              "    <tr>\n",
              "      <td>3</td>\n",
              "      <td>fll buf xxbos offered complimentary drink switching seats stewardess asked xxunk amp said xxunk xxunk xxunk xxbos frontier xxbos customer service rude xxunk calls idea going xxunk heavily phone unbelievable xxbos yes awful weather appears home xxbos time today phl nice work xxunk xxbos love passbook update day released finally thank xxbos think priority member wonder treat xxunk know rewards card cancelled flightling immediately xxbos cancelled flightled flights fort lauderdale</td>\n",
              "    </tr>\n",
              "    <tr>\n",
              "      <td>4</td>\n",
              "      <td>u plane destination instead xxbos help upgrade xxunk select ca nt xxunk right area know guys good xxbos adds austin dallas love field route xxbos flight moved booked said arrive says xxbos great airline xxbos got flight thanks xxbos tried lovely customer service thank xxbos friend stuck bus runway xxunk small kids customer service explanation kids crying awful service xxbos mention fact paid extra fly jetblue thinking reliable xxbos sent</td>\n",
              "    </tr>\n",
              "  </tbody>\n",
              "</table>"
            ],
            "text/plain": [
              "<IPython.core.display.HTML object>"
            ]
          },
          "metadata": {
            "tags": []
          }
        }
      ]
    },
    {
      "cell_type": "markdown",
      "metadata": {
        "colab_type": "text",
        "id": "pzNlK9GT8hFG"
      },
      "source": [
        "### Now we define the language model and set the learning rates. "
      ]
    },
    {
      "cell_type": "markdown",
      "metadata": {
        "colab_type": "text",
        "id": "9RbQlTZ38hFG"
      },
      "source": [
        "`language_model_learner()` imports the pretrained model and assigns it to variable learner where:\n",
        "- data_lm is the data bunch created above\n",
        "-AWD_LSTM model architecture\n",
        "- drop_multi is the dropout rate in the model "
      ]
    },
    {
      "cell_type": "code",
      "metadata": {
        "colab_type": "code",
        "id": "u-D0h4z48hFH",
        "colab": {}
      },
      "source": [
        "learn = language_model_learner(data_lm, AWD_LSTM, drop_mult=0.3)"
      ],
      "execution_count": null,
      "outputs": []
    },
    {
      "cell_type": "markdown",
      "metadata": {
        "colab_type": "text",
        "id": "Svo6YIGu8hFJ"
      },
      "source": [
        "Fine tuning a model consists of gradually update the weights of the pretrained model according to the data we input.\n",
        "`lr_find()` runs a few epochs on the model to estimate the minimum learning rate we use in the gradient descent. It also plots  the loss in fuction of learning rate."
      ]
    },
    {
      "cell_type": "code",
      "metadata": {
        "colab_type": "code",
        "id": "9ucsJb0-8hFK",
        "colab": {
          "base_uri": "https://localhost:8080/",
          "height": 678
        },
        "outputId": "60f96f54-148f-48fc-97e9-ee103a17d5ac"
      },
      "source": [
        "learn.lr_find()\n",
        "learn.recorder.plot(suggestion=True)\n",
        "min_grad_lr = learn.recorder.min_grad_lr #assign to variable the suggested min gradient"
      ],
      "execution_count": null,
      "outputs": [
        {
          "output_type": "display_data",
          "data": {
            "text/html": [
              "\n",
              "    <div>\n",
              "        <style>\n",
              "            /* Turns off some styling */\n",
              "            progress {\n",
              "                /* gets rid of default border in Firefox and Opera. */\n",
              "                border: none;\n",
              "                /* Needs to be in here for Safari polyfill so background images work as expected. */\n",
              "                background-size: auto;\n",
              "            }\n",
              "            .progress-bar-interrupted, .progress-bar-interrupted::-webkit-progress-bar {\n",
              "                background: #F44336;\n",
              "            }\n",
              "        </style>\n",
              "      <progress value='9' class='' max='10' style='width:300px; height:20px; vertical-align: middle;'></progress>\n",
              "      90.00% [9/10 00:28<00:03]\n",
              "    </div>\n",
              "    \n",
              "<table border=\"1\" class=\"dataframe\">\n",
              "  <thead>\n",
              "    <tr style=\"text-align: left;\">\n",
              "      <th>epoch</th>\n",
              "      <th>train_loss</th>\n",
              "      <th>valid_loss</th>\n",
              "      <th>accuracy</th>\n",
              "      <th>time</th>\n",
              "    </tr>\n",
              "  </thead>\n",
              "  <tbody>\n",
              "    <tr>\n",
              "      <td>0</td>\n",
              "      <td>8.531392</td>\n",
              "      <td>#na#</td>\n",
              "      <td>00:03</td>\n",
              "    </tr>\n",
              "    <tr>\n",
              "      <td>1</td>\n",
              "      <td>8.523832</td>\n",
              "      <td>#na#</td>\n",
              "      <td>00:03</td>\n",
              "    </tr>\n",
              "    <tr>\n",
              "      <td>2</td>\n",
              "      <td>8.515451</td>\n",
              "      <td>#na#</td>\n",
              "      <td>00:03</td>\n",
              "    </tr>\n",
              "    <tr>\n",
              "      <td>3</td>\n",
              "      <td>8.508117</td>\n",
              "      <td>#na#</td>\n",
              "      <td>00:03</td>\n",
              "    </tr>\n",
              "    <tr>\n",
              "      <td>4</td>\n",
              "      <td>8.473942</td>\n",
              "      <td>#na#</td>\n",
              "      <td>00:03</td>\n",
              "    </tr>\n",
              "    <tr>\n",
              "      <td>5</td>\n",
              "      <td>8.326581</td>\n",
              "      <td>#na#</td>\n",
              "      <td>00:03</td>\n",
              "    </tr>\n",
              "    <tr>\n",
              "      <td>6</td>\n",
              "      <td>7.913191</td>\n",
              "      <td>#na#</td>\n",
              "      <td>00:03</td>\n",
              "    </tr>\n",
              "    <tr>\n",
              "      <td>7</td>\n",
              "      <td>7.457406</td>\n",
              "      <td>#na#</td>\n",
              "      <td>00:03</td>\n",
              "    </tr>\n",
              "    <tr>\n",
              "      <td>8</td>\n",
              "      <td>7.211241</td>\n",
              "      <td>#na#</td>\n",
              "      <td>00:03</td>\n",
              "    </tr>\n",
              "  </tbody>\n",
              "</table><p>\n",
              "\n",
              "    <div>\n",
              "        <style>\n",
              "            /* Turns off some styling */\n",
              "            progress {\n",
              "                /* gets rid of default border in Firefox and Opera. */\n",
              "                border: none;\n",
              "                /* Needs to be in here for Safari polyfill so background images work as expected. */\n",
              "                background-size: auto;\n",
              "            }\n",
              "            .progress-bar-interrupted, .progress-bar-interrupted::-webkit-progress-bar {\n",
              "                background: #F44336;\n",
              "            }\n",
              "        </style>\n",
              "      <progress value='9' class='' max='10' style='width:300px; height:20px; vertical-align: middle;'></progress>\n",
              "      90.00% [9/10 00:02<00:00 10.0030]\n",
              "    </div>\n",
              "    "
            ],
            "text/plain": [
              "<IPython.core.display.HTML object>"
            ]
          },
          "metadata": {
            "tags": []
          }
        },
        {
          "output_type": "stream",
          "text": [
            "LR Finder is complete, type {learner_name}.recorder.plot() to see the graph.\n",
            "Min numerical gradient: 3.98E-02\n",
            "Min loss divided by 10: 9.12E-02\n"
          ],
          "name": "stdout"
        },
        {
          "output_type": "display_data",
          "data": {
            "image/png": "[encoded data removed]",
            "text/plain": [
              "<Figure size 432x288 with 1 Axes>"
            ]
          },
          "metadata": {
            "tags": [],
            "needs_background": "light"
          }
        }
      ]
    },
    {
      "cell_type": "markdown",
      "metadata": {
        "colab_type": "text",
        "id": "Ru0wj9_e8hFM"
      },
      "source": [
        "Gradually I continue to fine tune the modelx. I fit the model for a few cycles by running 2 epochs and then unfreezing and running more epochs to complete the fine tuning.  "
      ]
    },
    {
      "cell_type": "code",
      "metadata": {
        "colab_type": "code",
        "id": "ie45XDqX8hFM",
        "colab": {
          "base_uri": "https://localhost:8080/",
          "height": 107
        },
        "outputId": "be00f650-8640-40c4-9a22-4153a9fc5d99"
      },
      "source": [
        "learn.fit_one_cycle(2, min_grad_lr)\n",
        "\n"
      ],
      "execution_count": null,
      "outputs": [
        {
          "output_type": "display_data",
          "data": {
            "text/html": [
              "<table border=\"1\" class=\"dataframe\">\n",
              "  <thead>\n",
              "    <tr style=\"text-align: left;\">\n",
              "      <th>epoch</th>\n",
              "      <th>train_loss</th>\n",
              "      <th>valid_loss</th>\n",
              "      <th>accuracy</th>\n",
              "      <th>time</th>\n",
              "    </tr>\n",
              "  </thead>\n",
              "  <tbody>\n",
              "    <tr>\n",
              "      <td>0</td>\n",
              "      <td>7.325967</td>\n",
              "      <td>5.838331</td>\n",
              "      <td>0.143006</td>\n",
              "      <td>00:03</td>\n",
              "    </tr>\n",
              "    <tr>\n",
              "      <td>1</td>\n",
              "      <td>6.481793</td>\n",
              "      <td>5.685578</td>\n",
              "      <td>0.165551</td>\n",
              "      <td>00:03</td>\n",
              "    </tr>\n",
              "  </tbody>\n",
              "</table>"
            ],
            "text/plain": [
              "<IPython.core.display.HTML object>"
            ]
          },
          "metadata": {
            "tags": []
          }
        }
      ]
    },
    {
      "cell_type": "code",
      "metadata": {
        "colab_type": "code",
        "id": "zUvu30qw8hFO",
        "colab": {
          "base_uri": "https://localhost:8080/",
          "height": 278
        },
        "outputId": "adcfc29f-9ef6-4443-bee4-4aed263fe774"
      },
      "source": [
        "learn.recorder.plot_losses()\n",
        "\n"
      ],
      "execution_count": null,
      "outputs": [
        {
          "output_type": "display_data",
          "data": {
            "image/png": "[encoded data removed]",
            "text/plain": [
              "<Figure size 432x288 with 1 Axes>"
            ]
          },
          "metadata": {
            "tags": [],
            "needs_background": "light"
          }
        }
      ]
    },
    {
      "cell_type": "markdown",
      "metadata": {
        "colab_type": "text",
        "id": "Y8XWabKi8hFQ"
      },
      "source": [
        "Unfreezing all the layers and fit the language model."
      ]
    },
    {
      "cell_type": "code",
      "metadata": {
        "colab_type": "code",
        "id": "UGqsylUD8hFR",
        "colab": {
          "base_uri": "https://localhost:8080/",
          "height": 167
        },
        "outputId": "03997911-d304-4daa-ac50-1e7cb07aca77"
      },
      "source": [
        "learn.unfreeze()\n",
        "learn.fit_one_cycle(4, 1e-3)"
      ],
      "execution_count": null,
      "outputs": [
        {
          "output_type": "display_data",
          "data": {
            "text/html": [
              "<table border=\"1\" class=\"dataframe\">\n",
              "  <thead>\n",
              "    <tr style=\"text-align: left;\">\n",
              "      <th>epoch</th>\n",
              "      <th>train_loss</th>\n",
              "      <th>valid_loss</th>\n",
              "      <th>accuracy</th>\n",
              "      <th>time</th>\n",
              "    </tr>\n",
              "  </thead>\n",
              "  <tbody>\n",
              "    <tr>\n",
              "      <td>0</td>\n",
              "      <td>5.532931</td>\n",
              "      <td>5.654544</td>\n",
              "      <td>0.162500</td>\n",
              "      <td>00:04</td>\n",
              "    </tr>\n",
              "    <tr>\n",
              "      <td>1</td>\n",
              "      <td>5.433630</td>\n",
              "      <td>5.553893</td>\n",
              "      <td>0.171429</td>\n",
              "      <td>00:04</td>\n",
              "    </tr>\n",
              "    <tr>\n",
              "      <td>2</td>\n",
              "      <td>5.301911</td>\n",
              "      <td>5.525669</td>\n",
              "      <td>0.184747</td>\n",
              "      <td>00:04</td>\n",
              "    </tr>\n",
              "    <tr>\n",
              "      <td>3</td>\n",
              "      <td>5.194525</td>\n",
              "      <td>5.532135</td>\n",
              "      <td>0.182589</td>\n",
              "      <td>00:04</td>\n",
              "    </tr>\n",
              "  </tbody>\n",
              "</table>"
            ],
            "text/plain": [
              "<IPython.core.display.HTML object>"
            ]
          },
          "metadata": {
            "tags": []
          }
        }
      ]
    },
    {
      "cell_type": "markdown",
      "metadata": {
        "colab_type": "text",
        "id": "LrYVmE3F86RW"
      },
      "source": [
        "## CLASSIFIER RESAMPLED"
      ]
    },
    {
      "cell_type": "markdown",
      "metadata": {
        "colab_type": "text",
        "id": "4E67Dvze86RY"
      },
      "source": [
        "Using the language model trained on the new dataset I am now fitting the classifier. In a similir process as above I am loading the DataBunch. This time `TextClasDataBunch()` does not ignore the class labels so that the models learns the sentiment of the tweets. "
      ]
    },
    {
      "cell_type": "code",
      "metadata": {
        "colab_type": "code",
        "id": "8xbsMH3886RZ",
        "colab": {
          "base_uri": "https://localhost:8080/",
          "height": 16
        },
        "outputId": "b60f0c3c-8609-4fd3-ace4-09974296c91e"
      },
      "source": [
        "data_clas = TextClasDataBunch.from_df(train_df = sampled_train, valid_df = sampled_test, path = \"\", vocab=data_lm.train_ds.vocab, bs=32)"
      ],
      "execution_count": null,
      "outputs": [
        {
          "output_type": "display_data",
          "data": {
            "text/html": [
              ""
            ],
            "text/plain": [
              "<IPython.core.display.HTML object>"
            ]
          },
          "metadata": {
            "tags": []
          }
        },
        {
          "output_type": "display_data",
          "data": {
            "text/html": [
              ""
            ],
            "text/plain": [
              "<IPython.core.display.HTML object>"
            ]
          },
          "metadata": {
            "tags": []
          }
        }
      ]
    },
    {
      "cell_type": "code",
      "metadata": {
        "colab_type": "code",
        "id": "150ZxqhS86Rc",
        "colab": {}
      },
      "source": [
        "class_ = text_classifier_learner(data_clas, AWD_LSTM, drop_mult=0.5)"
      ],
      "execution_count": null,
      "outputs": []
    },
    {
      "cell_type": "code",
      "metadata": {
        "colab_type": "code",
        "id": "om7PRx0986Rf",
        "colab": {
          "base_uri": "https://localhost:8080/",
          "height": 408
        },
        "outputId": "ea20f762-70ad-42ba-dcda-909d89500394"
      },
      "source": [
        "class_.lr_find()\n",
        "class_.recorder.plot(suggestion=True)\n",
        "min_grad_lr = class_.recorder.min_grad_lr"
      ],
      "execution_count": null,
      "outputs": [
        {
          "output_type": "display_data",
          "data": {
            "text/html": [
              "\n",
              "    <div>\n",
              "        <style>\n",
              "            /* Turns off some styling */\n",
              "            progress {\n",
              "                /* gets rid of default border in Firefox and Opera. */\n",
              "                border: none;\n",
              "                /* Needs to be in here for Safari polyfill so background images work as expected. */\n",
              "                background-size: auto;\n",
              "            }\n",
              "            .progress-bar-interrupted, .progress-bar-interrupted::-webkit-progress-bar {\n",
              "                background: #F44336;\n",
              "            }\n",
              "        </style>\n",
              "      <progress value='0' class='' max='1' style='width:300px; height:20px; vertical-align: middle;'></progress>\n",
              "      0.00% [0/1 00:00<00:00]\n",
              "    </div>\n",
              "    \n",
              "<table border=\"1\" class=\"dataframe\">\n",
              "  <thead>\n",
              "    <tr style=\"text-align: left;\">\n",
              "      <th>epoch</th>\n",
              "      <th>train_loss</th>\n",
              "      <th>valid_loss</th>\n",
              "      <th>accuracy</th>\n",
              "      <th>time</th>\n",
              "    </tr>\n",
              "  </thead>\n",
              "  <tbody>\n",
              "  </tbody>\n",
              "</table><p>\n",
              "\n",
              "    <div>\n",
              "        <style>\n",
              "            /* Turns off some styling */\n",
              "            progress {\n",
              "                /* gets rid of default border in Firefox and Opera. */\n",
              "                border: none;\n",
              "                /* Needs to be in here for Safari polyfill so background images work as expected. */\n",
              "                background-size: auto;\n",
              "            }\n",
              "            .progress-bar-interrupted, .progress-bar-interrupted::-webkit-progress-bar {\n",
              "                background: #F44336;\n",
              "            }\n",
              "        </style>\n",
              "      <progress value='90' class='' max='172' style='width:300px; height:20px; vertical-align: middle;'></progress>\n",
              "      52.33% [90/172 00:02<00:02 1.5044]\n",
              "    </div>\n",
              "    "
            ],
            "text/plain": [
              "<IPython.core.display.HTML object>"
            ]
          },
          "metadata": {
            "tags": []
          }
        },
        {
          "output_type": "stream",
          "text": [
            "LR Finder is complete, type {learner_name}.recorder.plot() to see the graph.\n",
            "Min numerical gradient: 4.37E-01\n",
            "Min loss divided by 10: 1.58E-07\n"
          ],
          "name": "stdout"
        },
        {
          "output_type": "display_data",
          "data": {
            "image/png": "[encoded data removed]",
            "text/plain": [
              "<Figure size 432x288 with 1 Axes>"
            ]
          },
          "metadata": {
            "tags": [],
            "needs_background": "light"
          }
        }
      ]
    },
    {
      "cell_type": "markdown",
      "metadata": {
        "colab_type": "text",
        "id": "8yA396W-86Ri"
      },
      "source": [
        "Once again, I am using the gradul unfreezing technique.  Starting by training the last few layers and then gradually go backwards and unfreeze and train layers before. To do so I use the `learn.freeze_to()` function. Where the argument is an integer number that indicates the number of layers I want to unfreeze. \n",
        "I start by unfreezing the first two layers and train."
      ]
    },
    {
      "cell_type": "code",
      "metadata": {
        "colab_type": "code",
        "id": "ThHjX8fc86Ri",
        "colab": {
          "base_uri": "https://localhost:8080/",
          "height": 107
        },
        "outputId": "4349c047-3d73-40f7-89f5-15829c8f4028"
      },
      "source": [
        "class_.fit_one_cycle(2, min_grad_lr)\n"
      ],
      "execution_count": null,
      "outputs": [
        {
          "output_type": "display_data",
          "data": {
            "text/html": [
              "<table border=\"1\" class=\"dataframe\">\n",
              "  <thead>\n",
              "    <tr style=\"text-align: left;\">\n",
              "      <th>epoch</th>\n",
              "      <th>train_loss</th>\n",
              "      <th>valid_loss</th>\n",
              "      <th>accuracy</th>\n",
              "      <th>time</th>\n",
              "    </tr>\n",
              "  </thead>\n",
              "  <tbody>\n",
              "    <tr>\n",
              "      <td>0</td>\n",
              "      <td>1.448099</td>\n",
              "      <td>1.205236</td>\n",
              "      <td>0.334058</td>\n",
              "      <td>00:05</td>\n",
              "    </tr>\n",
              "    <tr>\n",
              "      <td>1</td>\n",
              "      <td>1.135330</td>\n",
              "      <td>1.105226</td>\n",
              "      <td>0.321014</td>\n",
              "      <td>00:04</td>\n",
              "    </tr>\n",
              "  </tbody>\n",
              "</table>"
            ],
            "text/plain": [
              "<IPython.core.display.HTML object>"
            ]
          },
          "metadata": {
            "tags": []
          }
        }
      ]
    },
    {
      "cell_type": "code",
      "metadata": {
        "colab_type": "code",
        "id": "AdATpYcX86Rl",
        "colab": {
          "base_uri": "https://localhost:8080/",
          "height": 278
        },
        "outputId": "f3b2e9d5-6fee-446d-a9c2-c4a320bafdec"
      },
      "source": [
        "class_.recorder.plot_losses()\n"
      ],
      "execution_count": null,
      "outputs": [
        {
          "output_type": "display_data",
          "data": {
            "image/png": "[encoded data removed]",
            "text/plain": [
              "<Figure size 432x288 with 1 Axes>"
            ]
          },
          "metadata": {
            "tags": [],
            "needs_background": "light"
          }
        }
      ]
    },
    {
      "cell_type": "markdown",
      "metadata": {
        "colab_type": "text",
        "id": "PLGSf5B986Rn"
      },
      "source": [
        "`slice(start,end)` allows you to set a learning rate intervall. The first group's learning rate is start, the last is end, and the remaining are evenly geometrically spaced."
      ]
    },
    {
      "cell_type": "code",
      "metadata": {
        "colab_type": "code",
        "id": "b33jcKuY86Ro",
        "colab": {
          "base_uri": "https://localhost:8080/",
          "height": 167
        },
        "outputId": "d9a51832-e7a6-4ec5-9301-1519aa823911"
      },
      "source": [
        "class_.freeze_to(-2)\n",
        "class_.fit_one_cycle(4, slice(5e-3, 2e-3), moms=(0.8,0.7))\n"
      ],
      "execution_count": null,
      "outputs": [
        {
          "output_type": "display_data",
          "data": {
            "text/html": [
              "<table border=\"1\" class=\"dataframe\">\n",
              "  <thead>\n",
              "    <tr style=\"text-align: left;\">\n",
              "      <th>epoch</th>\n",
              "      <th>train_loss</th>\n",
              "      <th>valid_loss</th>\n",
              "      <th>accuracy</th>\n",
              "      <th>time</th>\n",
              "    </tr>\n",
              "  </thead>\n",
              "  <tbody>\n",
              "    <tr>\n",
              "      <td>0</td>\n",
              "      <td>1.095083</td>\n",
              "      <td>61.352722</td>\n",
              "      <td>0.317391</td>\n",
              "      <td>00:05</td>\n",
              "    </tr>\n",
              "    <tr>\n",
              "      <td>1</td>\n",
              "      <td>1.074188</td>\n",
              "      <td>1.109203</td>\n",
              "      <td>0.334058</td>\n",
              "      <td>00:05</td>\n",
              "    </tr>\n",
              "    <tr>\n",
              "      <td>2</td>\n",
              "      <td>1.055995</td>\n",
              "      <td>1.038685</td>\n",
              "      <td>0.485507</td>\n",
              "      <td>00:06</td>\n",
              "    </tr>\n",
              "    <tr>\n",
              "      <td>3</td>\n",
              "      <td>1.050753</td>\n",
              "      <td>1.018635</td>\n",
              "      <td>0.497826</td>\n",
              "      <td>00:05</td>\n",
              "    </tr>\n",
              "  </tbody>\n",
              "</table>"
            ],
            "text/plain": [
              "<IPython.core.display.HTML object>"
            ]
          },
          "metadata": {
            "tags": []
          }
        }
      ]
    },
    {
      "cell_type": "code",
      "metadata": {
        "colab_type": "code",
        "id": "xgPVZqUM86Rq",
        "colab": {
          "base_uri": "https://localhost:8080/",
          "height": 278
        },
        "outputId": "29c39a4e-dfb5-45e7-bd70-86d9fea9048a"
      },
      "source": [
        "class_.recorder.plot_losses()\n"
      ],
      "execution_count": null,
      "outputs": [
        {
          "output_type": "display_data",
          "data": {
            "image/png": "[encoded data removed]",
            "text/plain": [
              "<Figure size 432x288 with 1 Axes>"
            ]
          },
          "metadata": {
            "tags": [],
            "needs_background": "light"
          }
        }
      ]
    },
    {
      "cell_type": "code",
      "metadata": {
        "colab_type": "code",
        "id": "IFNJhoyf86Rs",
        "colab": {
          "base_uri": "https://localhost:8080/",
          "height": 167
        },
        "outputId": "bd3f7cdf-b6d2-4117-c0fb-1cdaefaf00a7"
      },
      "source": [
        "class_.unfreeze()\n",
        "class_.fit_one_cycle(4, slice(2e-3/100, 2e-3), moms=(0.8,0.7))"
      ],
      "execution_count": null,
      "outputs": [
        {
          "output_type": "display_data",
          "data": {
            "text/html": [
              "<table border=\"1\" class=\"dataframe\">\n",
              "  <thead>\n",
              "    <tr style=\"text-align: left;\">\n",
              "      <th>epoch</th>\n",
              "      <th>train_loss</th>\n",
              "      <th>valid_loss</th>\n",
              "      <th>accuracy</th>\n",
              "      <th>time</th>\n",
              "    </tr>\n",
              "  </thead>\n",
              "  <tbody>\n",
              "    <tr>\n",
              "      <td>0</td>\n",
              "      <td>0.985060</td>\n",
              "      <td>0.895461</td>\n",
              "      <td>0.594928</td>\n",
              "      <td>00:12</td>\n",
              "    </tr>\n",
              "    <tr>\n",
              "      <td>1</td>\n",
              "      <td>0.910533</td>\n",
              "      <td>0.875236</td>\n",
              "      <td>0.589130</td>\n",
              "      <td>00:11</td>\n",
              "    </tr>\n",
              "    <tr>\n",
              "      <td>2</td>\n",
              "      <td>0.820865</td>\n",
              "      <td>0.788173</td>\n",
              "      <td>0.652899</td>\n",
              "      <td>00:12</td>\n",
              "    </tr>\n",
              "    <tr>\n",
              "      <td>3</td>\n",
              "      <td>0.784386</td>\n",
              "      <td>0.784789</td>\n",
              "      <td>0.650725</td>\n",
              "      <td>00:11</td>\n",
              "    </tr>\n",
              "  </tbody>\n",
              "</table>"
            ],
            "text/plain": [
              "<IPython.core.display.HTML object>"
            ]
          },
          "metadata": {
            "tags": []
          }
        }
      ]
    },
    {
      "cell_type": "code",
      "metadata": {
        "colab_type": "code",
        "id": "I5P04IJx86Ru",
        "colab": {
          "base_uri": "https://localhost:8080/",
          "height": 311
        },
        "outputId": "6af7e591-774e-44bc-c680-c59b988ce347"
      },
      "source": [
        "preds,y,losses = class_.get_preds(with_loss=True)\n",
        "interp = ClassificationInterpretation(class_, preds, y, losses)\n",
        "interp.plot_confusion_matrix()"
      ],
      "execution_count": null,
      "outputs": [
        {
          "output_type": "display_data",
          "data": {
            "text/html": [
              ""
            ],
            "text/plain": [
              "<IPython.core.display.HTML object>"
            ]
          },
          "metadata": {
            "tags": []
          }
        },
        {
          "output_type": "display_data",
          "data": {
            "image/png": "[encoded data removed]",
            "text/plain": [
              "<Figure size 432x288 with 1 Axes>"
            ]
          },
          "metadata": {
            "tags": [],
            "needs_background": "light"
          }
        }
      ]
    },
    {
      "cell_type": "code",
      "metadata": {
        "colab_type": "code",
        "id": "H10QdOZU86Rx",
        "colab": {
          "base_uri": "https://localhost:8080/",
          "height": 34
        },
        "outputId": "405fa04a-f7d1-4c12-ea4a-bb5c69069446"
      },
      "source": [
        "accuracy(preds, y)"
      ],
      "execution_count": null,
      "outputs": [
        {
          "output_type": "execute_result",
          "data": {
            "text/plain": [
              "tensor(0.6507)"
            ]
          },
          "metadata": {
            "tags": []
          },
          "execution_count": 48
        }
      ]
    },
    {
      "cell_type": "markdown",
      "metadata": {
        "id": "dyMTA2qi9nsr",
        "colab_type": "text"
      },
      "source": [
        "The accuracy for the resampled data did not improve from the raw dataset. Although it is not crystal clear the reason why some tweets have been mislabeled a better approach for the future is not focus more on the feature engeneering. Moreover, text tweets is always a tricky problem as people are not concerned with grammar and English words."
      ]
    },
    {
      "cell_type": "markdown",
      "metadata": {
        "id": "x5TmcTXv9ewc",
        "colab_type": "text"
      },
      "source": [
        "# APPENDIX"
      ]
    },
    {
      "cell_type": "markdown",
      "metadata": {
        "id": "U92BHGqN9hxV",
        "colab_type": "text"
      },
      "source": [
        "## In this appendix I will explain how the fast ai tokenization works."
      ]
    },
    {
      "cell_type": "markdown",
      "metadata": {
        "id": "z_a-hvkJ-neb",
        "colab_type": "text"
      },
      "source": [
        "We want to transform a list of strings (text) into a list of token. Similarly to a list of words but with some common rules. Fastai uses Spacy a common library for data preprocessing in NLP. It then adds a beginning of tweet token in order to recognize when a new text starts. It is useful to know when a new text is starting as in a language model we concatenate all the text together and it is important to know when texts finish because it might be the case that we need to forget some of the context at the end of the text.\n",
        "FastAI tokenizer  has some interesting features. For example it adds tokens in front of cap words in order to maintain the magnitude of the meaning of the word. Usually all caps means shouting and might have a different impact on the sentiment. Get the semantic impact of shouted (CAP) version of the token. Tokens are all lower cased but additional token before cap words indicates their semantic meaning. At the same time if a word is followed by '!!!!!!!!' it has a different semantic impact and this is also taken in consideration in the fastai tokenization."
      ]
    },
    {
      "cell_type": "code",
      "metadata": {
        "id": "uBZvQ_PG_UhG",
        "colab_type": "code",
        "colab": {}
      },
      "source": [
        "train_text = df_train['text']\n",
        "token_train =  Tokenizer().process_all(train_text)"
      ],
      "execution_count": null,
      "outputs": []
    },
    {
      "cell_type": "markdown",
      "metadata": {
        "id": "wjbkHZnC_kYk",
        "colab_type": "text"
      },
      "source": [
        "NUMERICALISING the token means mapping each unique token to an integer:\n",
        "- make a list of all the words that appear (vocabulary)\n",
        "- and replace the words with the index into the list \n",
        "\n",
        "usually in NLP problems we dont need every single unique token in the vocabulary. for example tokens with a very low frequency might be typos or not conveying any kind of information to the language model. "
      ]
    },
    {
      "cell_type": "code",
      "metadata": {
        "id": "Iz8IMRup_kv7",
        "colab_type": "code",
        "colab": {}
      },
      "source": [
        "freq = Counter(p for o in token_train for p in o)\n",
        "freq"
      ],
      "execution_count": null,
      "outputs": []
    },
    {
      "cell_type": "code",
      "metadata": {
        "id": "8XuvEfNm_mvK",
        "colab_type": "code",
        "colab": {}
      },
      "source": [
        "max_voc = 10000\n",
        "min_freq = 0 #appear at least twice"
      ],
      "execution_count": null,
      "outputs": []
    },
    {
      "cell_type": "code",
      "metadata": {
        "id": "bNdPuNXB_p1a",
        "colab_type": "code",
        "colab": {}
      },
      "source": [
        "# int to string = list of unique tokens present in the vocabolary\n",
        "i2s = [o for o,c in freq.most_common(max_voc)if c > min_freq] #sorts by frequency  and discard words wich dont appear more then twice\n",
        "i2s.insert(0,'_unk_') # unknown \n",
        "i2s.insert(1,'_pad_') # padding"
      ],
      "execution_count": null,
      "outputs": []
    },
    {
      "cell_type": "code",
      "metadata": {
        "id": "PmXUjGJw_rzm",
        "colab_type": "code",
        "colab": {}
      },
      "source": [
        "#  string to int creates the vocabulary, it doesnt cover everything bc truncated to max_voc number of words\n",
        "\n",
        "s2i = collections.defaultdict(lambda: 0, {v:k for k,v in enumerate(i2s)})"
      ],
      "execution_count": null,
      "outputs": []
    },
    {
      "cell_type": "code",
      "metadata": {
        "id": "bGLYipT9_uAx",
        "colab_type": "code",
        "colab": {}
      },
      "source": [
        "train_lm = np.array([[s2i[o] for o in p] for p in token_train])\n",
        "vs = len(i2s)"
      ],
      "execution_count": null,
      "outputs": []
    },
    {
      "cell_type": "markdown",
      "metadata": {
        "id": "OlQI276YzOPs",
        "colab_type": "text"
      },
      "source": [
        "# CONCLUSION"
      ]
    },
    {
      "cell_type": "markdown",
      "metadata": {
        "id": "VpY9zKwYzRCW",
        "colab_type": "text"
      },
      "source": [
        "The above project applies a semi-supervised ULMFiT model to Twitter US Airlines Sentiment. It is based on the fast.ai ULMFiT algorithm which consists of an LSTM network with dropout rates at each layer. Before training the classifier I build a language model. This is done using the transfer learning technique as my base model is a pretrained model on the WIKITEXT103 database. Subsequently I update the model using the data of this project. Before feeding the text to the algorithm I clean and preprocess the text. Given the imbalance of the dataset I also train a second model by randomly sampling from the original dataset so that I obtain a balance dataset. However, this doesn't improve the accuracy of the classifier. This could be due because of the syntax of the tweets which doesn't follow common English grammar rules. Further works should focus on a better cleaning preprocess that takes into consideration the such issues."
      ]
    },
    {
      "cell_type": "code",
      "metadata": {
        "id": "DJrCLcHM1FQe",
        "colab_type": "code",
        "colab": {}
      },
      "source": [
        ""
      ],
      "execution_count": null,
      "outputs": []
    }
  ]
}